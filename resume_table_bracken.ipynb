{
 "cells": [
  {
   "cell_type": "code",
   "execution_count": 1,
   "metadata": {},
   "outputs": [],
   "source": [
    "# Importa módulos y funciones\n",
    "import os\n",
    "import re\n",
    "import pandas as p\n",
    "from Bio import SeqIO"
   ]
  },
  {
   "cell_type": "code",
   "execution_count": 16,
   "metadata": {},
   "outputs": [],
   "source": [
    "# Ficheros para unir conteo de OTUs de bracken\n",
    "ficheros = [\"../c3upo_trials/results/bracken77GB_SRR12064736_S.bracken\", \"../c3upo_trials/results/bracken77GB_SRR12064737_S.bracken\", \"../c3upo_trials/results/bracken77GB_SRR12064738_S.bracken\", \"../c3upo_trials/results/bracken77GB_SRR12064739_S.bracken\", \"../results/SRR12064740/meta2_SRR12064740_bracken77GB_S.bracken\", \"../results/SRR12064741/meta2_SRR12064741_bracken77GB_S.bracken\", \"../results/SRR12064742/meta2_SRR12064742_bracken77GB_S.bracken\", \"../results/SRR12064743/meta2_SRR12064743_bracken77GB_S.bracken\"]\n"
   ]
  },
  {
   "cell_type": "code",
   "execution_count": 9,
   "metadata": {},
   "outputs": [],
   "source": [
    "# Ficheros para unir tablas de htseq-count para enrichment (incluye todas)\n",
    "ficheros = [\"../results/SRR12064736/alligned_counts_SRR12064736.sv\", \"../results/SRR12064737/alligned_counts_SRR12064737.tsv\", \"../results/SRR12064738/alligned_counts_SRR12064738.tsv\", \"../results/SRR12064739/alligned_counts_SRR12064739.tsv\", \"../results/SRR12064740/alligned_counts_SRR12064740.tsv\", \"../results/SRR12064741/alligned_counts_SRR12064741.tsv\", \"../results/SRR12064742/alligned_counts_SRR12064742.tsv\", \"../results/SRR12064743/alligned_counts_SRR12064743.tsv\"]\n"
   ]
  },
  {
   "cell_type": "code",
   "execution_count": 2,
   "metadata": {},
   "outputs": [],
   "source": [
    "# Ficheros para unir tablas de htseq-count para enrichment (solo SE)\n",
    "ficheros = [\"../results/SRR12064736/alligned_counts_SRR12064736.tsv\", \"../results/SRR12064737/alligned_counts_SRR12064737.tsv\", \"../results/SRR12064738/alligned_counts_SRR12064738.tsv\", \"../results/SRR12064739/alligned_counts_SRR12064739.tsv\"]\n"
   ]
  },
  {
   "cell_type": "code",
   "execution_count": 3,
   "metadata": {},
   "outputs": [],
   "source": [
    "# Ficheros para unir tablas de htseq-count para enrichment (solo PE)\n",
    "ficheros = [\"../results/SRR12064740/subsample_SRR12064740_alligned_counts.tsv\", \"../results/SRR12064741/subsample_SRR12064741_alligned_counts.tsv\", \"../results/SRR12064742/subsample_SRR12064742_alligned_counts.tsv\", \"../results/SRR12064743/alligned_counts_SRR12064743.tsv\"]\n"
   ]
  },
  {
   "cell_type": "code",
   "execution_count": 2,
   "metadata": {},
   "outputs": [],
   "source": [
    "# Database uniref50 para filtrar secuencias incompletas\n",
    "fichero = \"/home/alumno/miniconda3/envs/qiime2-dev/lib/python3.8/site-packages/humann/data/uniref/uniref50_201901b_full.fasta\"\n"
   ]
  },
  {
   "cell_type": "code",
   "execution_count": 5,
   "metadata": {},
   "outputs": [],
   "source": [
    "# Ficheros para unir tablas de htseq-count para enrichment (muestras nuevas)\n",
    "ficheros = [\"../results/SRR7866327/alligned_subsample_SRR7866327_counts.tsv\", \"../results/SRR7866328/alligned_subsample_SRR7866328_counts.tsv\", \"../results/SRR7866329/alligned_SRR7866329_counts.tsv\", \"../results/SRR7866330/alligned_subsample_SRR7866330_counts.tsv\"]\n"
   ]
  },
  {
   "cell_type": "code",
   "execution_count": 6,
   "metadata": {},
   "outputs": [],
   "source": [
    "# Crea dataframes y listas vacías para manipular\n",
    "merged_df = p.DataFrame()\n",
    "dfs = []\n",
    "all_otus = []"
   ]
  },
  {
   "cell_type": "code",
   "execution_count": 18,
   "metadata": {},
   "outputs": [
    {
     "name": "stdout",
     "output_type": "stream",
     "text": [
      "                                Especie  SRR12064736  SRR12064737  \\\n",
      "0             Elizabethkingia anophelis    8519964.0    9800811.0   \n",
      "1     Elizabethkingia sp. JS20170427COW      43017.0      48071.0   \n",
      "2                Elizabethkingia sp. M8      58195.0      62097.0   \n",
      "3               Elizabethkingia sp. 2-6      11758.0       8371.0   \n",
      "4        Elizabethkingia meningoseptica      27271.0      47363.0   \n",
      "...                                 ...          ...          ...   \n",
      "3358    Sediminispirochaeta smaragdinae          0.0          0.0   \n",
      "3359             Corallococcus sp. NCRR          0.0          0.0   \n",
      "3360                     Mesotoga prima          0.0          0.0   \n",
      "3361               Halosimplex litoreum          0.0          0.0   \n",
      "3362            Methanococcus vannielii          0.0          0.0   \n",
      "\n",
      "      SRR12064738  SRR12064739  SRR12064740  SRR12064741  SRR12064742  \\\n",
      "0       5646247.0    5035081.0    3370327.0    4151018.0    2118782.0   \n",
      "1         17343.0      13446.0      26389.0      33984.0      11477.0   \n",
      "2         23686.0      23212.0       7400.0      11867.0       4216.0   \n",
      "3          6458.0       4517.0       4359.0       9215.0       3896.0   \n",
      "4         16872.0      19680.0      20393.0      33215.0      12695.0   \n",
      "...           ...          ...          ...          ...          ...   \n",
      "3358          0.0          0.0          0.0          0.0          0.0   \n",
      "3359          0.0          0.0          0.0          0.0          0.0   \n",
      "3360          0.0          0.0          0.0          0.0          0.0   \n",
      "3361          0.0          0.0          0.0          0.0          0.0   \n",
      "3362          0.0          0.0          0.0          0.0          0.0   \n",
      "\n",
      "      SRR12064743  \n",
      "0       2050218.0  \n",
      "1         10175.0  \n",
      "2          4488.0  \n",
      "3          3051.0  \n",
      "4         16312.0  \n",
      "...           ...  \n",
      "3358         14.0  \n",
      "3359         17.0  \n",
      "3360         10.0  \n",
      "3361         10.0  \n",
      "3362         11.0  \n",
      "\n",
      "[3363 rows x 9 columns]\n"
     ]
    }
   ],
   "source": [
    "# Para unir conteos matriz otus bracken\n",
    "for f in ficheros:\n",
    "    \n",
    "    df = p.read_csv(f, sep = \"\\t\", usecols = [0, 5], header = 0, names = [\"Especie\", \"Conteo\"])\n",
    "    f = re.search(\"SRR\\d+\", f).group(0)\n",
    "    df.rename(columns = {\"Conteo\": f}, inplace = True)\n",
    "    df.set_index(\"Especie\", inplace = True)\n",
    "    merged_df = p.concat([merged_df, df], axis=1, sort = False)\n",
    "\n",
    "merged_df = merged_df.fillna(0)\n",
    "merged_df.reset_index(inplace = True)\n",
    "print(merged_df)"
   ]
  },
  {
   "cell_type": "code",
   "execution_count": 7,
   "metadata": {},
   "outputs": [
    {
     "name": "stdout",
     "output_type": "stream",
     "text": [
      "                           ID  SRR7866327  SRR7866328  SRR7866329  SRR7866330\n",
      "0                  AGAP000002           0           0           3           1\n",
      "1                  AGAP000005           0           0           1           0\n",
      "2                  AGAP000007           0           0           1           1\n",
      "3                  AGAP000008           1           0           0           0\n",
      "4                  AGAP000009           4           5           4           6\n",
      "...                       ...         ...         ...         ...         ...\n",
      "13845            __no_feature     7004709     7787944     6834450     6659768\n",
      "13846             __ambiguous        5797        1664        2338        1577\n",
      "13847         __too_low_aQual           0           0           0           0\n",
      "13848           __not_aligned           0           0           0           0\n",
      "13849  __alignment_not_unique    14984908    14095389    13618443    14700923\n",
      "\n",
      "[13850 rows x 5 columns]\n"
     ]
    }
   ],
   "source": [
    "# Para unir tsv de conteo HTseq-count\n",
    "for f in ficheros:\n",
    "    \n",
    "    df = p.read_csv(f, sep = \"\\t\", usecols = [0, 1], names = [\"ID\", \"Conteo\"])\n",
    "    f = re.search(\"SRR\\d+\", f).group(0)\n",
    "    df.rename(columns = {\"Conteo\": f}, inplace = True)\n",
    "    df.set_index(\"ID\", inplace = True)\n",
    "    merged_df = p.concat([merged_df, df], axis=1, sort = False)\n",
    "\n",
    "merged_df = merged_df.fillna(0)\n",
    "merged_df.reset_index(inplace = True)\n",
    "print(merged_df)"
   ]
  },
  {
   "cell_type": "code",
   "execution_count": 6,
   "metadata": {},
   "outputs": [],
   "source": [
    "merged_df.to_csv(\"resume_table_bracken_PEcorrection.tsv\", sep = \"\\t\", index = False)"
   ]
  },
  {
   "cell_type": "code",
   "execution_count": 15,
   "metadata": {},
   "outputs": [],
   "source": [
    "merged_df.to_csv(\"htseq-count_full.tsv\", sep = \"\\t\", index = False)"
   ]
  },
  {
   "cell_type": "code",
   "execution_count": 6,
   "metadata": {},
   "outputs": [],
   "source": [
    "merged_df.to_csv(\"htseq-count_subsampled_PE.tsv\", sep = \"\\t\", index = False)"
   ]
  },
  {
   "cell_type": "code",
   "execution_count": 8,
   "metadata": {},
   "outputs": [],
   "source": [
    "merged_df.to_csv(\"htseq-count_new_subsampled_PE.tsv\", sep = \"\\t\", index = False)"
   ]
  },
  {
   "cell_type": "code",
   "execution_count": 8,
   "metadata": {},
   "outputs": [],
   "source": [
    "# Edita fichero de 1 linea gigante en multiples entradas de gff\n",
    "with open(\"../gff files/Orf50_AgPest.gff\", \"r\") as file:\n",
    "    linea = file.readline().strip()\n",
    "\n",
    "lineas = re.sub(r\"(AAAB\\d+)\\t\", r\"\\n\\1\\t\", linea)\n",
    "#print(lineas)\n",
    "with open(\"Orf50_AgPest_corrected.gff\", \"w\") as file:\n",
    "    file.write(lineas)"
   ]
  },
  {
   "cell_type": "code",
   "execution_count": 15,
   "metadata": {},
   "outputs": [
    {
     "name": "stdout",
     "output_type": "stream",
     "text": [
      "Diversidad alpha: \n",
      "-SRR12064736\n",
      "Shannon's diversity: 0.6582627146841136\n",
      "None\n",
      "-SRR12064737\n",
      "Shannon's diversity: 0.686215608331458\n",
      "None\n",
      "-SRR12064738\n",
      "Shannon's diversity: 1.032021913480079\n",
      "None\n",
      "-SRR12064739\n",
      "Shannon's diversity: 1.2508660335041437\n",
      "None\n",
      "-SRR12064740\n",
      "Shannon's diversity: 0.7575788206366133\n",
      "None\n",
      "-SRR12064741\n",
      "Shannon's diversity: 1.064824000790613\n",
      "None\n",
      "-SRR12064742\n",
      "Shannon's diversity: 1.2470632490204023\n",
      "None\n",
      "-SRR12064743\n",
      "Shannon's diversity: 1.408957458351571\n",
      "None\n"
     ]
    }
   ],
   "source": [
    "ficheros = [\"../c3upo_trials/results/bracken77GB_SRR12064736_S.bracken\", \"../c3upo_trials/results/bracken77GB_SRR12064737_S.bracken\", \"../c3upo_trials/results/bracken77GB_SRR12064738_S.bracken\", \"../c3upo_trials/results/bracken77GB_SRR12064739_S.bracken\", \"../results/SRR12064740/meta2_SRR12064740_bracken77GB_S.bracken\", \"../results/SRR12064741/meta2_SRR12064741_bracken77GB_S.bracken\", \"../results/SRR12064742/meta2_SRR12064742_bracken77GB_S.bracken\", \"../results/SRR12064743/meta2_SRR12064743_bracken77GB_S.bracken\"]\n",
    "print(\"Diversidad alpha: \")\n",
    "for f in ficheros:\n",
    "    SRR = re.search(\"SRR\\d+\", f).group(0)\n",
    "    print(\"-\" + SRR)\n",
    "    %run -r \"../programas/KrakenTools-master/DiversityTools/alpha_diversity.py\" -f {f} -a Sh\n"
   ]
  },
  {
   "cell_type": "code",
   "execution_count": 6,
   "metadata": {},
   "outputs": [],
   "source": [
    "# Parsear secuencias uniref50 db diamond en fichero fasta filtrando por \"Fragmentos\" que se quedan fuera\n",
    "\n",
    "fileout = \"/home/alumno/miniconda3/envs/qiime2-dev/lib/python3.8/site-packages/humann/data/uniref/uniref50_reduced.fasta\"\n",
    "with open(fichero) as input, open(fileout, \"w\") as fileout:\n",
    "    for rec in SeqIO.parse(input, \"fasta\"):\n",
    "        if not re.search(r\"(Fragment)\", rec.description):\n",
    "            SeqIO.write(rec, fileout, \"fasta\")\n"
   ]
  },
  {
   "cell_type": "code",
   "execution_count": 7,
   "metadata": {},
   "outputs": [],
   "source": [
    "# Parsear secuencias uniref50 db diamond en fichero fasta filtrando por \"Uncharacterized protein\" que se quedan fuera\n",
    "\n",
    "fileout = \"/home/alumno/miniconda3/envs/qiime2-dev/lib/python3.8/site-packages/humann/data/uniref/uniref50_reduced.fasta\"\n",
    "with open(fichero) as input, open(fileout, \"w\") as fileout:\n",
    "    for rec in SeqIO.parse(input, \"fasta\"):\n",
    "        if not re.search(r\"Uncharacterized protein\", rec.description):\n",
    "            SeqIO.write(rec, fileout, \"fasta\")\n"
   ]
  },
  {
   "cell_type": "code",
   "execution_count": 19,
   "metadata": {},
   "outputs": [
    {
     "name": "stdout",
     "output_type": "stream",
     "text": [
      "             GID                                                 GO  \\\n",
      "0     AGAP000005  GO:0008134,GO:0008301,GO:0006310,GO:0006338,GO...   \n",
      "1     AGAP000007  GO:0098632,GO:0007156,GO:0007411,GO:0070593,GO...   \n",
      "2     AGAP000008  GO:0005829,GO:0005524,GO:0031072,GO:0046872,GO...   \n",
      "3     AGAP000009  GO:0005096,GO:0017137,GO:0019905,GO:0045159,GO...   \n",
      "4     AGAP000012  GO:0004831,GO:0043039,GO:0005739,GO:0005829,GO...   \n",
      "...          ...                                                ...   \n",
      "9023  AGAP029815        GO:0072686,GO:0008017,GO:0000226,GO:0035556   \n",
      "9024  AGAP029816  GO:0097153,GO:0006915,GO:0005737,GO:0004197,GO...   \n",
      "9025  AGAP029820  GO:0004111,GO:0016301,GO:0046314,GO:0000166,GO...   \n",
      "9026  AGAP029827                              GO:0016020,GO:0016021   \n",
      "9027  AGAP029832  GO:0004181,GO:0006508,GO:0005615,GO:0004181,GO...   \n",
      "\n",
      "                                               EVIDENCE  \n",
      "0     IBA,IBA,IBA,IBA,IBA,IBA,IBA,IBA,IBA,IBA,IEA,IE...  \n",
      "1                               IBA,IBA,IBA,IBA,IBA,IBA  \n",
      "2                           IBA,IEA,IEA,IEA,IEA,IEA,IEA  \n",
      "3     IBA,IBA,IBA,IBA,IBA,IBA,IBA,IBA,IBA,IEA,IEA,IE...  \n",
      "4     IBA,IBA,IBA,IBA,IEA,IEA,IEA,IEA,IEA,IEA,IEA,IE...  \n",
      "...                                                 ...  \n",
      "9023                                    IBA,IBA,IBA,IEA  \n",
      "9024                            IBA,IBA,IBA,IEA,IEA,IEA  \n",
      "9025  IBA,IBA,IBA,IEA,IEA,IEA,IEA,IEA,IEA,IEA,IEA,IE...  \n",
      "9026                                            IEA,IEA  \n",
      "9027                            IBA,IBA,IBA,IEA,IEA,IEA  \n",
      "\n",
      "[9028 rows x 3 columns]\n"
     ]
    }
   ],
   "source": [
    "# Procesar gaf para que tenga todos los GO en una sola fila\n",
    "fichero = \"../gff files/VectorBase-67_AgambiaePEST_Curated_GO.gaf\"\n",
    "df = p.read_csv(fichero, sep = \"\\t\", usecols = [1, 4, 6], header = 0, comment = \"!\", \n",
    "                names = [\"GID\", \"GO\", \"EVIDENCE\"])\n",
    "df1 = df.groupby(\"GID\")[\"GO\"].apply(lambda x: \",\".join(x)).reset_index()\n",
    "df2 = df.groupby(\"GID\")[\"EVIDENCE\"].apply(lambda x: \",\".join(x)).reset_index()\n",
    "df3 = p.merge(df1, df2, on=\"GID\")\n",
    "print(df3)\n",
    "df3.to_csv(\"../gff files/Edited_VB67_AgP_Curated_GO.gaf\", sep = \"\\t\", index = False)\n"
   ]
  }
 ],
 "metadata": {
  "kernelspec": {
   "display_name": "Python 3 (ipykernel)",
   "language": "python",
   "name": "python3"
  },
  "language_info": {
   "codemirror_mode": {
    "name": "ipython",
    "version": 3
   },
   "file_extension": ".py",
   "mimetype": "text/x-python",
   "name": "python",
   "nbconvert_exporter": "python",
   "pygments_lexer": "ipython3",
   "version": "3.8.5"
  }
 },
 "nbformat": 4,
 "nbformat_minor": 4
}
