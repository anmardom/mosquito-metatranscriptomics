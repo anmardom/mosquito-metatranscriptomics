{
 "cells": [
  {
   "cell_type": "code",
   "execution_count": 1,
   "metadata": {},
   "outputs": [],
   "source": [
    "import os\n",
    "import re\n",
    "import pandas as p"
   ]
  },
  {
   "cell_type": "code",
   "execution_count": 5,
   "metadata": {},
   "outputs": [],
   "source": [
    "ficheros = [\"bracken_unalligned_SRR12064742_hisat2_species.bracken\", \"bracken_unalligned_SRR120647422_hisat2_species.bracken\"]"
   ]
  },
  {
   "cell_type": "code",
   "execution_count": 6,
   "metadata": {},
   "outputs": [],
   "source": [
    "merged_df = p.DataFrame()\n",
    "dfs = []\n",
    "all_otus = []"
   ]
  },
  {
   "cell_type": "code",
   "execution_count": 7,
   "metadata": {},
   "outputs": [
    {
     "name": "stdout",
     "output_type": "stream",
     "text": [
      "                                   Especie  SRR12064742  SRR120647422\n",
      "0                Elizabethkingia anophelis      3220867     2726606.0\n",
      "1        Elizabethkingia sp. JS20170427COW         4437        4059.0\n",
      "2                  Elizabethkingia sp. 2-6         3967        2264.0\n",
      "3           Elizabethkingia meningoseptica         2129        1221.0\n",
      "4                 Elizabethkingia ursingii         2494        2022.0\n",
      "..                                     ...          ...           ...\n",
      "242             Desulfurispirillum indicum           53          47.0\n",
      "243         Candidatus Solibacter usitatus           27           0.0\n",
      "244                           Homo sapiens        25331       17563.0\n",
      "245               Torque teno mini virus 3          468         404.0\n",
      "246  Choristoneura fumiferana granulovirus           10           0.0\n",
      "\n",
      "[247 rows x 3 columns]\n"
     ]
    }
   ],
   "source": [
    "for f in ficheros:\n",
    "    \n",
    "    df = p.read_csv(f, sep = \"\\t\", usecols = [0, 5], header = 0, names = [\"Especie\", \"Conteo\"])\n",
    "    f = re.search(\"SRR\\d+\", f).group(0)\n",
    "    df.rename(columns = {\"Conteo\": f}, inplace = True)\n",
    "    df.set_index(\"Especie\", inplace = True)\n",
    "    merged_df = p.concat([merged_df, df], axis=1, sort = False)\n",
    "\n",
    "merged_df = merged_df.fillna(0)\n",
    "merged_df.reset_index(inplace = True)\n",
    "print(merged_df)"
   ]
  },
  {
   "cell_type": "code",
   "execution_count": 8,
   "metadata": {},
   "outputs": [],
   "source": [
    "merged_df.to_csv(\"fused_matrix.tsv\", sep = \"\\t\", index = False)"
   ]
  }
 ],
 "metadata": {
  "kernelspec": {
   "display_name": "Python 3 (ipykernel)",
   "language": "python",
   "name": "python3"
  },
  "language_info": {
   "codemirror_mode": {
    "name": "ipython",
    "version": 3
   },
   "file_extension": ".py",
   "mimetype": "text/x-python",
   "name": "python",
   "nbconvert_exporter": "python",
   "pygments_lexer": "ipython3",
   "version": "3.8.5"
  }
 },
 "nbformat": 4,
 "nbformat_minor": 4
}
